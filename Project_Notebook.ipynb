{
  "nbformat": 4,
  "nbformat_minor": 0,
  "metadata": {
    "colab": {
      "name": "Project_Notebook.ipynb",
      "provenance": []
    },
    "kernelspec": {
      "name": "python3",
      "display_name": "Python 3"
    }
  },
  "cells": [
    {
      "cell_type": "code",
      "metadata": {
        "id": "CE8TCzZAOBjM"
      },
      "source": [
        "from google.colab import drive\n",
        "drive.mount('/content/drive')"
      ],
      "execution_count": null,
      "outputs": []
    },
    {
      "cell_type": "code",
      "metadata": {
        "id": "SSzEzkNa9xY4"
      },
      "source": [
        "import os\n",
        "import librosa as lb\n",
        "import pandas as pd\n",
        "from pathlib import Path"
      ],
      "execution_count": null,
      "outputs": []
    },
    {
      "cell_type": "code",
      "metadata": {
        "id": "pHWheZtP9y3Z"
      },
      "source": [
        "os.chdir('/content/drive/My Drive/ML Project/male') # changes the directory to the one holding the male clips\n",
        "path = os.getcwd() # gets the directory\n",
        "path = path + '/' # adds a slash at the end\n",
        "all_sounds = []\n",
        "name = []\n",
        "#len(os.listdir(path))\n",
        "entries = Path(path) # gets all the files in the directory\n",
        "for files in entries.iterdir():\n",
        "  name.append(files.name) # gets the names of each file\n",
        "\n",
        "#print(name)\n",
        "\n",
        "# do not run in current state, if you let it go for too long itll do the whole thing which takes close to an hour \n",
        "for index in range(len(os.listdir(path))): # scrolls through the files\n",
        "  print(\"bruh \" + str(index))\n",
        "  y, sr = lb.load(path + name[index]) # loads each file\n",
        "  all_sounds.append((y, sr)) # append to list for later use\n",
        "\n",
        "#for index, files in enumerate(os.listdir(path)):\n",
        "  #all_sounds.append(lb.load(path + name[index]))"
      ],
      "execution_count": null,
      "outputs": []
    }
  ]
}