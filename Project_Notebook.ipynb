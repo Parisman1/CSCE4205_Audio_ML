{
  "nbformat": 4,
  "nbformat_minor": 0,
  "metadata": {
    "colab": {
      "name": "Project_Notebook.ipynb",
      "provenance": []
    },
    "kernelspec": {
      "name": "python3",
      "display_name": "Python 3"
    }
  },
  "cells": [
    {
      "cell_type": "code",
      "metadata": {
        "id": "CE8TCzZAOBjM"
      },
      "source": [
        "#This is for the fun part"
      ],
      "execution_count": null,
      "outputs": []
    },
    {
      "cell_type": "code",
      "metadata": {
        "id": "i3a9pZz2POHs"
      },
      "source": [
        "wack\n"
      ],
      "execution_count": null,
      "outputs": []
    }
  ]
}