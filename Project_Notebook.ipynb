{
  "nbformat": 4,
  "nbformat_minor": 0,
  "metadata": {
    "colab": {
      "name": "Project_Notebook.ipynb",
      "provenance": []
    },
    "kernelspec": {
      "name": "python3",
      "display_name": "Python 3"
    }
  },
  "cells": [
    {
      "cell_type": "code",
      "metadata": {
        "id": "CE8TCzZAOBjM",
        "outputId": "cd179b14-b81e-4bec-8d65-7898c66d7925",
        "colab": {
          "base_uri": "https://localhost:8080/"
        }
      },
      "source": [
        "from google.colab import drive\n",
        "drive.mount('/content/drive')"
      ],
      "execution_count": 7,
      "outputs": [
        {
          "output_type": "stream",
          "text": [
            "Mounted at /content/drive\n"
          ],
          "name": "stdout"
        }
      ]
    },
    {
      "cell_type": "code",
      "metadata": {
        "id": "SSzEzkNa9xY4"
      },
      "source": [
        "import os\n",
        "import os.path\n",
        "from os import path\n",
        "import librosa as lb\n",
        "import pandas as pd\n",
        "from pathlib import Path\n",
        "import numpy as np\n",
        "import IPython.display as ipd\n",
        "import csv\n",
        "import scipy"
      ],
      "execution_count": 2,
      "outputs": []
    },
    {
      "cell_type": "code",
      "metadata": {
        "id": "YaA3o-k5Nt0H"
      },
      "source": [
        "# Set your drive's path for the files used.\n",
        "maleVoicePath = '/content/drive/My Drive/ML Project/male'\n",
        "whiteNoisePath = '/content/drive/My Drive/ML Project/whitenoise'\n",
        "DrivePath = '/content/drive/My Drive/ML Project'\n",
        "csvPath = '/content/drive/My Drive/ML Project/data.csv'"
      ],
      "execution_count": 1,
      "outputs": []
    },
    {
      "cell_type": "code",
      "metadata": {
        "id": "H7l1Zo0JOpFW"
      },
      "source": [
        "# Static Variables for audio information\n",
        "windowLength = 256\n",
        "overlap      = round(0.25 * windowLength) # overlap of 75%\n",
        "ffTLength    = windowLength\n",
        "inputFs      = 48e3\n",
        "fs           = 16e3\n",
        "numFeatures  = ffTLength//2 + 1\n",
        "numSegments  = 8"
      ],
      "execution_count": 3,
      "outputs": []
    },
    {
      "cell_type": "code",
      "metadata": {
        "id": "LfngH2kaWz0c"
      },
      "source": [
        "class FeatureExtractor:\n",
        "    def __init__(self, audio, *, windowLength, overlap, sample_rate):\n",
        "        self.audio = audio\n",
        "        self.ffT_length = windowLength\n",
        "        self.window_length = windowLength\n",
        "        self.overlap = overlap\n",
        "        self.sample_rate = sample_rate\n",
        "        self.window = scipy.signal.hamming(self.window_length, sym=False)\n",
        "\n",
        "    def get_stft_spectrogram(self):\n",
        "        return lb.stft(self.audio, n_fft=self.ffT_length, win_length=self.window_length, hop_length=self.overlap,\n",
        "                            window=self.window, center=True)\n",
        "\n",
        "    def get_audio_from_stft_spectrogram(self, stft_features):\n",
        "        return lb.istft(stft_features, win_length=self.window_length, hop_length=self.overlap,\n",
        "                             window=self.window, center=True)\n",
        "\n",
        "    def get_mel_spectrogram(self):\n",
        "        return lb.feature.melspectrogram(self.audio, sr=self.sample_rate, power=2.0, n_fft=self.ffT_length, hop_length=self.overlap)\n",
        "\n",
        "    def get_audio_from_mel_spectrogram(self, M):\n",
        "        return lb.feature.inverse.mel_to_audio(M, sr=self.sample_rate, n_fft=self.ffT_length, hop_length=self.overlap,\n",
        "                                             win_length=self.window_length, window=self.window,\n",
        "                                             center=True, pad_mode='reflect', power=2.0, n_iter=32, length=None)"
      ],
      "execution_count": 4,
      "outputs": []
    },
    {
      "cell_type": "code",
      "metadata": {
        "id": "sHTcwRNwPDf1"
      },
      "source": [
        "# Source: https://github.com/daitan-innovation/cnn-audio-denoiser/blob/master/SpeechDenoiserCNN.ipynb\n",
        "def read_audio(filepath, sample_rate, normalize=True):\n",
        "    \"\"\"Read an audio file and return it as a numpy array\"\"\"\n",
        "    audio, sr = lb.load(filepath, sr=sample_rate)\n",
        "    if normalize:\n",
        "      div_fac = 1 / np.max(np.abs(audio)) / 3.0\n",
        "      audio = audio * div_fac\n",
        "    return audio, sr\n",
        "        \n",
        "def add_noise_to_clean_audio(clean_audio, noise_signal):\n",
        "    \"\"\"Adds noise to an audio sample\"\"\"\n",
        "    if len(clean_audio) >= len(noise_signal):\n",
        "        # print(\"The noisy signal is smaller than the clean audio input. Duplicating the noise.\")\n",
        "        while len(clean_audio) >= len(noise_signal):\n",
        "            noise_signal = np.append(noise_signal, noise_signal)\n",
        "\n",
        "    ## Extract a noise segment from a random location in the noise file\n",
        "    ind = np.random.randint(0, noise_signal.size - clean_audio.size)\n",
        "\n",
        "    noiseSegment = noise_signal[ind: ind + clean_audio.size]\n",
        "\n",
        "    speech_power = np.sum(clean_audio ** 2)\n",
        "    noise_power = np.sum(noiseSegment ** 2)\n",
        "    noisyAudio = clean_audio + np.sqrt(speech_power / noise_power) * noiseSegment\n",
        "    return noisyAudio\n",
        "\n",
        "def play(audio, sample_rate):\n",
        "    ipd.display(ipd.Audio(data=audio, rate=sample_rate))  # load a local WAV file"
      ],
      "execution_count": 5,
      "outputs": []
    },
    {
      "cell_type": "code",
      "metadata": {
        "id": "pHWheZtP9y3Z"
      },
      "source": [
        "os.chdir(maleVoicePath) # changes the directory to the one holding the male clips\n",
        "Mypath = os.getcwd() # gets the directory\n",
        "Mypath = Mypath + '/' # adds a slash at the end\n",
        "all_sounds = []\n",
        "name = []\n",
        "entries = Path(Mypath) # gets all the files in the directory\n",
        "for files in entries.iterdir():\n",
        "  name.append(files.name) # gets the names of each file\n",
        "\n",
        "'''for index in range(len(os.listdir(path))):\n",
        "   #Use a smaller list for testing.'''\n",
        "\n",
        "for index in range(10):\n",
        "  y, sr = read_audio(Mypath + name[index], fs)\n",
        "  #lb.load(path + name[index]) # loads each file\n",
        "  all_sounds.append((y, sr)) # append to list for later use"
      ],
      "execution_count": 8,
      "outputs": []
    },
    {
      "cell_type": "code",
      "metadata": {
        "id": "Zwcg6xnqZi3N"
      },
      "source": [
        "os.chdir(whiteNoisePath)\n",
        "Mypath = os.getcwd()\n",
        "Mypath = Mypath + '/'\n",
        "entries = Path(Mypath)\n",
        "name = []\n",
        "all_whitenoise = []\n",
        "for files in entries.iterdir():\n",
        "  name.append(files.name)\n",
        "for index in range(len(os.listdir(Mypath))):\n",
        "  y, sr = read_audio(Mypath + name[index], fs)\n",
        "  all_whitenoise.append((y, sr))"
      ],
      "execution_count": 22,
      "outputs": []
    },
    {
      "cell_type": "code",
      "metadata": {
        "id": "wy4XV7ouMtzS"
      },
      "source": [
        "for sound in all_sounds:\n",
        "  x, y = sound\n",
        "  play(x, y)"
      ],
      "execution_count": null,
      "outputs": []
    },
    {
      "cell_type": "code",
      "metadata": {
        "id": "nk2IX-24aDDD"
      },
      "source": [
        "for sound in all_whitenoise:\n",
        "  x, y = sound\n",
        "  play(x, y)"
      ],
      "execution_count": null,
      "outputs": []
    },
    {
      "cell_type": "markdown",
      "metadata": {
        "id": "XaOxmwEaZGPI"
      },
      "source": [
        "test area for making the csv\n"
      ]
    },
    {
      "cell_type": "code",
      "metadata": {
        "id": "3AgklSPQ5ej2"
      },
      "source": [
        "soundextractors = []\n",
        "for sound in all_sounds:\n",
        "  the_sound, sr = sound\n",
        "  soundextractors.append(FeatureExtractor(the_sound, windowLength=windowLength, overlap=overlap, sample_rate=sr))\n",
        "\n",
        "os.chdir(DrivePath)\n",
        "if path.exists('data.csv'):\n",
        "  with open(\"data.csv\",\"w\") as file:\n",
        "    write = csv.writer(file, delimiter=',', quotechar='\"', quoting=csv.QUOTE_MINIMAL)\n",
        "\n",
        "else:\n",
        "  with open(\"data.csv\",\"w\") as file:\n",
        "    write = csv.writer(file, delimiter=',', quotechar='\"', quoting=csv.QUOTE_MINIMAL)\n",
        "\n",
        "    write.writerow(['File', 'stft', 'mel', 'sample rate'])\n",
        "\n",
        "    for index, sound in enumerate(soundextractors):\n",
        "      file_path = name[index]\n",
        "      stft = sound.get_stft_spectrogram()\n",
        "      mel = sound.get_mel_spectrogram()\n",
        "      samp_rate = sound.sample_rate\n",
        "\n",
        "      write.writerow([file_path, stft, mel, samp_rate])"
      ],
      "execution_count": null,
      "outputs": []
    },
    {
      "cell_type": "code",
      "metadata": {
        "id": "mfkWwNa_h2dU"
      },
      "source": [
        "features = pd.read_csv(csvPath)\n",
        "features"
      ],
      "execution_count": null,
      "outputs": []
    },
    {
      "cell_type": "code",
      "metadata": {
        "id": "fY18thUjbgW6"
      },
      "source": [
        "'''\n",
        "dtype = np.dtype([\n",
        "                     ('File', str),\n",
        "                     ('stft', float),\n",
        "                     ('mel', float),\n",
        "                     ('sample rate', float),\n",
        "                     ])\n",
        "npd = np.empty(0, dtype=dtype)\n",
        "dataToWrite = pd.DataFrame(npd)\n",
        "soundextractors = []\n",
        "for sound in all_sounds:\n",
        "  soundextractors.append(FeatureExtractor(sound, windowLength=windowLength, overlap=overlap, sample_rate=sr))\n",
        "for sound in soundextractors:\n",
        "  dataToWrite = dataToWrite.append({'File': 'test'}, ignore_index=True)\n",
        "  dataToWrite = dataToWrite.append({'stft': sound.get_stft_spectrogram()}, ignore_index=True)\n",
        "  dataToWrite = dataToWrite.append({'mel': sound.get_mel_spectrogram()}, ignore_index=True)\n",
        "  dataToWrite = dataToWrite.append({'sample rate': sound.sample_rate}, ignore_index=True)\n",
        "'''"
      ],
      "execution_count": null,
      "outputs": []
    },
    {
      "cell_type": "markdown",
      "metadata": {
        "id": "g0zjaKKvn19e"
      },
      "source": [
        "The code under here is heavily WIP and most doesn't work."
      ]
    },
    {
      "cell_type": "code",
      "metadata": {
        "id": "_ZwLkifgYAtV"
      },
      "source": [
        "cleanAudio, sr = all_sounds[1]\n",
        "print(\"Min:\", np.min(cleanAudio),\"Max:\",np.max(cleanAudio))\n",
        "ipd.Audio(data=cleanAudio, rate=sr) # load a local WAV file"
      ],
      "execution_count": null,
      "outputs": []
    },
    {
      "cell_type": "code",
      "metadata": {
        "id": "d4fAPFo7YG9b"
      },
      "source": [
        "noiseAudio, sr = all_whitenoise[0]\n",
        "print(\"Min:\", np.min(noiseAudio),\"Max:\",np.max(noiseAudio))\n",
        "ipd.Audio(data=noiseAudio, rate=sr) # load a local WAV file"
      ],
      "execution_count": null,
      "outputs": []
    },
    {
      "cell_type": "code",
      "metadata": {
        "id": "cgd_AsaDW87Y"
      },
      "source": [
        "# Clean Audio Feature Extractor\n",
        "cleanAudioFeatureExtractor = FeatureExtractor(cleanAudio, windowLength=windowLength, overlap=overlap, sample_rate=sr)\n",
        "stft_features = cleanAudioFeatureExtractor.get_stft_spectrogram()\n",
        "stft_features = np.abs(stft_features)\n",
        "print(\"Min:\", np.min(stft_features),\"Max:\",np.max(stft_features))"
      ],
      "execution_count": null,
      "outputs": []
    },
    {
      "cell_type": "code",
      "metadata": {
        "id": "2_7VNLK2YLNk"
      },
      "source": [
        "noisyAudio = add_noise_to_clean_audio(cleanAudio, noiseAudio)\n",
        "ipd.Audio(data=noisyAudio, rate=fs) # load a local WAV file"
      ],
      "execution_count": null,
      "outputs": []
    },
    {
      "cell_type": "code",
      "metadata": {
        "id": "k6VAr-1hYMYc"
      },
      "source": [
        "def prepare_input_features(stft_features):\n",
        "    # Phase Aware Scaling: To avoid extreme differences (more than\n",
        "    # 45 degree) between the noisy and clean phase, the clean spectral magnitude was encoded as similar to [21]:\n",
        "    noisySTFT = np.concatenate([stft_features[:,0:numSegments-1], stft_features], axis=1)\n",
        "    stftSegments = np.zeros((numFeatures, numSegments , noisySTFT.shape[1] - numSegments + 1))\n",
        "\n",
        "    for index in range(noisySTFT.shape[1] - numSegments + 1):\n",
        "        stftSegments[:,:,index] = noisySTFT[:,index:index + numSegments]\n",
        "    return stftSegments"
      ],
      "execution_count": 39,
      "outputs": []
    },
    {
      "cell_type": "code",
      "metadata": {
        "id": "yyOJE83dXSq3",
        "outputId": "f2ba2dba-a4a5-46c5-ded0-8707c9533b5e",
        "colab": {
          "base_uri": "https://localhost:8080/"
        }
      },
      "source": [
        "noiseAudioFeatureExtractor = FeatureExtractor(noisyAudio, windowLength=windowLength, overlap=overlap, sample_rate=sr)\n",
        "noise_stft_features = noiseAudioFeatureExtractor.get_stft_spectrogram()\n",
        "\n",
        "# Paper: Besides, spectral phase was not used in the training phase.\n",
        "# At reconstruction, noisy spectral phase was used instead to\n",
        "# perform in- verse STFT and recover human speech.\n",
        "noisyPhase = np.angle(noise_stft_features)\n",
        "print(noisyPhase.shape)\n",
        "noise_stft_features = np.abs(noise_stft_features)\n",
        "\n",
        "mean = np.mean(noise_stft_features)\n",
        "std = np.std(noise_stft_features)\n",
        "noise_stft_features = (noise_stft_features - mean) / std"
      ],
      "execution_count": 40,
      "outputs": [
        {
          "output_type": "stream",
          "text": [
            "(129, 2257)\n"
          ],
          "name": "stdout"
        }
      ]
    }
  ]
}